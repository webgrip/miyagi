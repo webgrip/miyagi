{
 "cells": [
  {
   "attachments": {},
   "cell_type": "markdown",
   "metadata": {},
   "source": [
    "# Discriminative use case: Sentiment Analysis\n",
    "\n",
    "In this notebook, we will explore how we can perform classical ML task such as sentiment analysis using LLM.\n",
    "\n",
    "### Use case description\n",
    "\n",
    "Sentiment analysis is a common NLP task that involves classifying text into a pre-defined sentiment. For example, with Miyagi, we can classify a user's stock portfolio into a predefined categories based on current market sentiment, which can be determined using a Bing search.\n",
    "\n",
    "> Note - To improve reliability of the model output, set the temperature to 0 and use top_k sampling. This will ensure that the model always generates the same output for the same input."
   ]
  },
  {
   "cell_type": "markdown",
   "metadata": {},
   "source": [
    "#### 1. Import Semantic Kernel dependencies"
   ]
  },
  {
   "cell_type": "code",
   "execution_count": null,
   "metadata": {
    "dotnet_interactive": {
     "language": "csharp"
    },
    "notebookRunGroups": {
     "groupValue": "1"
    },
    "polyglot_notebook": {
     "kernelName": "csharp"
    }
   },
   "outputs": [],
   "source": [
    "#r \"nuget: Microsoft.SemanticKernel, 0.17.230711.7-preview\"\n",
    "#r \"nuget: Microsoft.SemanticKernel.Planning.StepwisePlanner, 0.17.230711.7-preview\"\n",
    "#r \"nuget: Microsoft.SemanticKernel.Skills.Web, 0.17.230711.7-preview\"\n",
    "\n",
    "#!import config/Settings.cs\n",
    "\n",
    "using Microsoft.SemanticKernel;\n",
    "using Microsoft.SemanticKernel.SemanticFunctions;\n",
    "using Microsoft.SemanticKernel.Planning;\n",
    "using Microsoft.SemanticKernel.Orchestration;\n",
    "using Microsoft.SemanticKernel.Skills.Web;\n",
    "using Microsoft.SemanticKernel.Skills.Web.Bing;"
   ]
  },
  {
   "cell_type": "markdown",
   "metadata": {},
   "source": [
    "#### 2. Initialize kernel"
   ]
  },
  {
   "cell_type": "code",
   "execution_count": null,
   "metadata": {
    "dotnet_interactive": {
     "language": "csharp"
    },
    "polyglot_notebook": {
     "kernelName": "csharp"
    }
   },
   "outputs": [],
   "source": [
    "var builder = new KernelBuilder();\n",
    "\n",
    "var (_, model, azureEndpoint, apiKey, org, bingApiKey) = Settings.LoadFromFile();\n",
    "builder.WithAzureChatCompletionService(model, azureEndpoint, apiKey);\n",
    "\n",
    "// TODO: Add embedding service for RaG\n",
    "\n",
    "IKernel kernel = builder.Build();"
   ]
  },
  {
   "cell_type": "markdown",
   "metadata": {},
   "source": [
    "#### 3. Create a Semantic Function (Prompt Template)"
   ]
  },
  {
   "cell_type": "code",
   "execution_count": null,
   "metadata": {
    "dotnet_interactive": {
     "language": "csharp"
    },
    "polyglot_notebook": {
     "kernelName": "csharp"
    }
   },
   "outputs": [],
   "source": [
    "string skPrompt = @\"\n",
    "This is a chat between a classification system that responds in valid JSON and human looking to rate their stock portfolio. Given a portfolio in valid JSON, respond back a sentiment in JSON for the attribute: sentiment. To determine this attribute, consider Web results from Bing and propietary data below.\n",
    "\n",
    "Example:\n",
    "\"\"stocks\"\": [\n",
    "        {\n",
    "            \"\"symbol\"\": \"\"MSFT\"\",\n",
    "            \"\"allocation\"\": 0.3,\n",
    "            \"\"sentiment\"\": \"\"positive\"\"\n",
    "        },\n",
    "        {\n",
    "            \"\"symbol\"\": \"\"ACN\"\",\n",
    "            \"\"allocation\"\": 0.1,\n",
    "            \"\"sentiment\"\": \"\"negative\"\"\n",
    "        },\n",
    "        {\n",
    "            \"\"symbol\"\": \"\"JPM\"\",\n",
    "            \"\"allocation\"\": 0.3,\n",
    "            \"\"sentiment\"\": \"\"neutral\"\"\n",
    "        },\n",
    "        {\n",
    "            \"\"symbol\"\": \"\"PEP\"\",\n",
    "            \"\"allocation\"\": 0.3,\n",
    "            \"\"sentiment\"\": \"\"neutral\"\"\n",
    "        }\n",
    "    ]\n",
    "\n",
    "Rate my portfolio:\n",
    "\n",
    "{{$portfolio}}\n",
    "\n",
    "\n",
    "Context: \n",
    "Web Results: {{$web}}\n",
    "\";\n",
    "\n",
    "// create semantic function\n",
    "var sentimentClassifier = kernel.CreateSemanticFunction(\n",
    "    skPrompt,\n",
    "    skillName: \"SentimentClassifier\",\n",
    "    functionName: \"SentimentClassifer\",\n",
    "    description: \"Classify sentiment of a stock portfolio\",\n",
    "    maxTokens: 1000, temperature: 0, topP: 0.5);\n",
    "Console.WriteLine(textToSQL.ToString());"
   ]
  },
  {
   "cell_type": "markdown",
   "metadata": {},
   "source": [
    "#### 3. Create Context variables"
   ]
  },
  {
   "cell_type": "code",
   "execution_count": null,
   "metadata": {
    "dotnet_interactive": {
     "language": "csharp"
    },
    "polyglot_notebook": {
     "kernelName": "csharp"
    }
   },
   "outputs": [],
   "source": [
    "var portfolio = @\"\n",
    "    \"\"stocks\"\": [\n",
    "        {\n",
    "            \"\"symbol\"\": \"\"AAPL\"\",\n",
    "            \"\"allocation\"\": 0.2,\n",
    "            \"\"sentiment\"\": \"\"\"\"\n",
    "        },\n",
    "        {\n",
    "            \"\"symbol\"\": \"\"NVDA\"\",\n",
    "            \"\"allocation\"\": 0.3,\n",
    "            \"\"sentiment\"\": \"\"\"\"\n",
    "        },\n",
    "        {\n",
    "            \"\"symbol\"\": \"\"TSLA\"\",\n",
    "            \"\"allocation\"\": 0.2,\n",
    "            \"\"sentiment\"\": \"\"\"\"\n",
    "        },\n",
    "        {\n",
    "            \"\"symbol\"\": \"\"T\"\",\n",
    "            \"\"allocation\"\": 0.3,\n",
    "            \"\"sentiment\"\": \"\"\"\"\n",
    "        }\n",
    "    ]\n",
    "\";\n",
    "\n",
    "// context variables\n",
    "var context = kernel.CreateNewContext();\n",
    "context[\"portfolio\"] = portfolio;"
   ]
  },
  {
   "cell_type": "markdown",
   "metadata": {},
   "source": [
    "#### 4. Generate SQL from natural language"
   ]
  },
  {
   "cell_type": "code",
   "execution_count": null,
   "metadata": {
    "dotnet_interactive": {
     "language": "csharp"
    },
    "polyglot_notebook": {
     "kernelName": "csharp"
    }
   },
   "outputs": [],
   "source": [
    "var question = \"Determine the sentiment of my stock portfolio based on what the internet says about the stocks in my portfolio.\";\n",
    "\n",
    "var bingConnector = new BingConnector(bingApiKey);\n",
    "var webSearchEngineSkill = new WebSearchEngineSkill(bingConnector);\n",
    "\n",
    "kernel.ImportSkill(sentimentClassifier, \"SentimentClassifier\");\n",
    "kernel.ImportSkill(webSearchEngineSkill, \"WebSearch\");\n",
    "\n",
    "var config = new Microsoft.SemanticKernel.Planning.Stepwise.StepwisePlannerConfig();\n",
    "config.MinIterationTimeMs = 1500;\n",
    "config.MaxTokens = 4000;\n",
    "\n",
    "StepwisePlanner planner = new(kernel, config);\n",
    "var plan = planner.CreatePlan(question);\n",
    "\n",
    "var result = await plan.InvokeAsync(kernel.CreateNewContext());\n",
    "Console.WriteLine(\"Result: \" + result);\n",
    "if (result.Variables.TryGetValue(\"stepCount\", out string? stepCount))\n",
    "{\n",
    "    Console.WriteLine(\"Steps Taken: \" + stepCount);\n",
    "}\n",
    "\n",
    "if (result.Variables.TryGetValue(\"skillCount\", out string? skillCount))\n",
    "{\n",
    "    Console.WriteLine(\"Skills Used: \" + skillCount);\n",
    "}\n"
   ]
  }
 ],
 "metadata": {
  "kernelspec": {
   "display_name": ".NET (C#)",
   "language": "C#",
   "name": ".net-csharp"
  },
  "language_info": {
   "name": "polyglot-notebook"
  },
  "polyglot_notebook": {
   "kernelInfo": {
    "defaultKernelName": "csharp",
    "items": [
     {
      "aliases": [],
      "name": "csharp"
     }
    ]
   }
  }
 },
 "nbformat": 4,
 "nbformat_minor": 2
}
